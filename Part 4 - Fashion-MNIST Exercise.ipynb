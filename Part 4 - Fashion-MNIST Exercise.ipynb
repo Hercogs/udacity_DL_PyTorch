{
 "cells": [
  {
   "cell_type": "markdown",
   "metadata": {},
   "source": [
    "# Classifying Fashion-MNIST\n",
    "\n",
    "Now it's your turn to build and train a neural network. You'll be using the [Fashion-MNIST dataset](https://github.com/zalandoresearch/fashion-mnist), a drop-in replacement for the MNIST dataset. MNIST is actually quite trivial with neural networks where you can easily achieve better than 97% accuracy. Fashion-MNIST is a set of 28x28 greyscale images of clothes. It's more complex than MNIST, so it's a better representation of the actual performance of your network, and a better representation of datasets you'll use in the real world.\n",
    "\n",
    "<img src='assets/fashion-mnist-sprite.png' width=500px>\n",
    "\n",
    "In this notebook, you'll build your own neural network. For the most part, you could just copy and paste the code from Part 3, but you wouldn't be learning. It's important for you to write the code yourself and get it to work. Feel free to consult the previous notebook though as you work through this.\n",
    "\n",
    "First off, let's load the dataset through torchvision."
   ]
  },
  {
   "cell_type": "code",
   "execution_count": 1,
   "metadata": {},
   "outputs": [],
   "source": [
    "import torch\n",
    "from torchvision import datasets, transforms\n",
    "import helper\n",
    "\n",
    "# Define a transform to normalize the data\n",
    "transform = transforms.Compose([transforms.ToTensor(),\n",
    "                                transforms.Normalize((0.5), (0.5))])\n",
    "# Download and load the training data\n",
    "trainset = datasets.FashionMNIST('F_MNIST_data/', download=True, train=True, transform=transform)\n",
    "trainloader = torch.utils.data.DataLoader(trainset, batch_size=64, shuffle=True)\n",
    "\n",
    "# Download and load the test data\n",
    "testset = datasets.FashionMNIST('F_MNIST_data/', download=True, train=False, transform=transform)\n",
    "testloader = torch.utils.data.DataLoader(testset, batch_size=64, shuffle=True)"
   ]
  },
  {
   "cell_type": "markdown",
   "metadata": {},
   "source": [
    "Here we can see one of the images."
   ]
  },
  {
   "cell_type": "code",
   "execution_count": 2,
   "metadata": {},
   "outputs": [
    {
     "name": "stdout",
     "output_type": "stream",
     "text": [
      "tensor(5)\n"
     ]
    },
    {
     "data": {
      "image/png": "[encoded data removed]",
      "text/plain": [
       "<Figure size 640x480 with 1 Axes>"
      ]
     },
     "metadata": {},
     "output_type": "display_data"
    }
   ],
   "source": [
    "image, label = next(iter(trainloader))\n",
    "helper.imshow(image[0,:]);\n",
    "print(label[0])"
   ]
  },
  {
   "cell_type": "markdown",
   "metadata": {},
   "source": [
    "With the data loaded, it's time to import the necessary packages."
   ]
  },
  {
   "cell_type": "code",
   "execution_count": 3,
   "metadata": {},
   "outputs": [],
   "source": [
    "%matplotlib inline\n",
    "%config InlineBackend.figure_format = 'retina'\n",
    "\n",
    "import matplotlib.pyplot as plt\n",
    "import numpy as np\n",
    "import time\n",
    "\n",
    "import torch\n",
    "from torch import nn\n",
    "from torch import optim\n",
    "import torch.nn.functional as F\n",
    "from torchvision import datasets, transforms\n",
    "\n",
    "import helper"
   ]
  },
  {
   "cell_type": "markdown",
   "metadata": {},
   "source": [
    "## Building the network\n",
    "\n",
    "Here you should define your network. As with MNIST, each image is 28x28 which is a total of 784 pixels, and there are 10 classes. You should include at least one hidden layer. We suggest you use ReLU activations for the layers and to return the logits from the forward pass. It's up to you how many layers you add and the size of those layers."
   ]
  },
  {
   "cell_type": "code",
   "execution_count": 34,
   "metadata": {},
   "outputs": [
    {
     "data": {
      "text/plain": [
       "Network(\n",
       "  (fc1): Linear(in_features=784, out_features=128, bias=True)\n",
       "  (fc2): Linear(in_features=128, out_features=64, bias=True)\n",
       "  (fc3): Linear(in_features=64, out_features=32, bias=True)\n",
       "  (fc4): Linear(in_features=32, out_features=10, bias=True)\n",
       ")"
      ]
     },
     "execution_count": 34,
     "metadata": {},
     "output_type": "execute_result"
    }
   ],
   "source": [
    "# TODO: Define your network architecture here\n",
    "\n",
    "input_size = 784\n",
    "hidden_sizes = [128, 64, 32]\n",
    "output_size = 10\n",
    "\n",
    "class Network(nn.Module):\n",
    "    def __init__(self):\n",
    "        super().__init__()\n",
    "\n",
    "        # Define layers\n",
    "        self.fc1 = nn.Linear(input_size, hidden_sizes[0])\n",
    "        self.fc2 = nn.Linear(hidden_sizes[0], hidden_sizes[1])\n",
    "        self.fc3 = nn.Linear(hidden_sizes[1], hidden_sizes[2])\n",
    "        self.fc4 = nn.Linear(hidden_sizes[2], output_size)\n",
    "\n",
    "    def forward(self, x):\n",
    "        x = self.fc1(x)\n",
    "        x = F.relu(x)\n",
    "        x = self.fc2(x)\n",
    "        x = F.relu(x)\n",
    "        x = self.fc3(x)\n",
    "        x = F.relu(x)\n",
    "        x = self.fc4(x)\n",
    "        x = F.relu(x)\n",
    "\n",
    "        return x\n",
    "\n",
    "model = Network()\n",
    "model\n",
    "\n",
    "        "
   ]
  },
  {
   "cell_type": "markdown",
   "metadata": {},
   "source": [
    "# Train the network\n",
    "\n",
    "Now you should create your network and train it. First you'll want to define [the criterion](http://pytorch.org/docs/master/nn.html#loss-functions) ( something like `nn.CrossEntropyLoss`) and [the optimizer](http://pytorch.org/docs/master/optim.html) (typically `optim.SGD` or `optim.Adam`).\n",
    "\n",
    "Then write the training code. Remember the training pass is a fairly straightforward process:\n",
    "\n",
    "* Make a forward pass through the network to get the logits \n",
    "* Use the logits to calculate the loss\n",
    "* Perform a backward pass through the network with `loss.backward()` to calculate the gradients\n",
    "* Take a step with the optimizer to update the weights\n",
    "\n",
    "By adjusting the hyperparameters (hidden units, learning rate, etc), you should be able to get the training loss below 0.4."
   ]
  },
  {
   "cell_type": "code",
   "execution_count": 35,
   "metadata": {},
   "outputs": [],
   "source": [
    "# TODO: Create the network, define the criterion and optimizer\n",
    "model = Network()\n",
    "criterion = nn.CrossEntropyLoss()\n",
    "optimizer = optim.SGD(model.parameters(), lr=0.005)\n"
   ]
  },
  {
   "cell_type": "code",
   "execution_count": 36,
   "metadata": {},
   "outputs": [
    {
     "name": "stdout",
     "output_type": "stream",
     "text": [
      "Epoch: 1/10...  Loss: 2.2989\n",
      "Epoch: 1/10...  Loss: 2.2918\n",
      "Epoch: 1/10...  Loss: 2.2864\n",
      "Epoch: 1/10...  Loss: 2.2773\n",
      "Epoch: 1/10...  Loss: 2.2604\n",
      "Epoch: 1/10...  Loss: 2.2301\n",
      "Epoch: 1/10...  Loss: 2.1977\n",
      "Epoch: 1/10...  Loss: 2.1419\n",
      "Epoch: 1/10...  Loss: 2.1009\n",
      "Epoch: 2/10...  Loss: 1.2603\n",
      "Epoch: 2/10...  Loss: 1.9776\n",
      "Epoch: 2/10...  Loss: 1.9406\n",
      "Epoch: 2/10...  Loss: 1.8481\n",
      "Epoch: 2/10...  Loss: 1.7648\n",
      "Epoch: 2/10...  Loss: 1.7025\n",
      "Epoch: 2/10...  Loss: 1.6468\n",
      "Epoch: 2/10...  Loss: 1.5773\n",
      "Epoch: 2/10...  Loss: 1.5483\n",
      "Epoch: 3/10...  Loss: 0.3569\n",
      "Epoch: 3/10...  Loss: 1.4785\n",
      "Epoch: 3/10...  Loss: 1.4438\n",
      "Epoch: 3/10...  Loss: 1.4357\n",
      "Epoch: 3/10...  Loss: 1.4041\n",
      "Epoch: 3/10...  Loss: 1.4029\n",
      "Epoch: 3/10...  Loss: 1.3688\n",
      "Epoch: 3/10...  Loss: 1.3635\n",
      "Epoch: 3/10...  Loss: 1.3471\n",
      "Epoch: 3/10...  Loss: 1.3506\n",
      "Epoch: 4/10...  Loss: 1.1387\n",
      "Epoch: 4/10...  Loss: 1.3248\n",
      "Epoch: 4/10...  Loss: 1.3049\n",
      "Epoch: 4/10...  Loss: 1.3091\n",
      "Epoch: 4/10...  Loss: 1.3045\n",
      "Epoch: 4/10...  Loss: 1.2987\n",
      "Epoch: 4/10...  Loss: 1.2700\n",
      "Epoch: 4/10...  Loss: 1.2727\n",
      "Epoch: 4/10...  Loss: 1.2826\n",
      "Epoch: 5/10...  Loss: 0.6029\n",
      "Epoch: 5/10...  Loss: 1.2627\n",
      "Epoch: 5/10...  Loss: 1.2445\n",
      "Epoch: 5/10...  Loss: 1.2354\n",
      "Epoch: 5/10...  Loss: 1.2196\n",
      "Epoch: 5/10...  Loss: 1.2390\n",
      "Epoch: 5/10...  Loss: 1.2355\n",
      "Epoch: 5/10...  Loss: 1.2416\n",
      "Epoch: 5/10...  Loss: 1.2246\n",
      "Epoch: 6/10...  Loss: 0.1277\n",
      "Epoch: 6/10...  Loss: 1.2008\n",
      "Epoch: 6/10...  Loss: 1.1820\n",
      "Epoch: 6/10...  Loss: 1.2046\n",
      "Epoch: 6/10...  Loss: 1.2065\n",
      "Epoch: 6/10...  Loss: 1.2026\n",
      "Epoch: 6/10...  Loss: 1.1901\n",
      "Epoch: 6/10...  Loss: 1.1923\n",
      "Epoch: 6/10...  Loss: 1.2074\n",
      "Epoch: 6/10...  Loss: 1.2066\n",
      "Epoch: 7/10...  Loss: 0.8343\n",
      "Epoch: 7/10...  Loss: 1.1623\n",
      "Epoch: 7/10...  Loss: 1.1729\n",
      "Epoch: 7/10...  Loss: 1.1708\n",
      "Epoch: 7/10...  Loss: 1.1687\n",
      "Epoch: 7/10...  Loss: 1.1716\n",
      "Epoch: 7/10...  Loss: 1.1805\n",
      "Epoch: 7/10...  Loss: 1.1784\n",
      "Epoch: 7/10...  Loss: 1.1687\n",
      "Epoch: 8/10...  Loss: 0.3970\n",
      "Epoch: 8/10...  Loss: 1.1678\n",
      "Epoch: 8/10...  Loss: 1.1604\n",
      "Epoch: 8/10...  Loss: 1.1527\n",
      "Epoch: 8/10...  Loss: 1.1370\n",
      "Epoch: 8/10...  Loss: 1.1405\n",
      "Epoch: 8/10...  Loss: 1.1365\n",
      "Epoch: 8/10...  Loss: 1.1451\n",
      "Epoch: 8/10...  Loss: 1.1380\n",
      "Epoch: 8/10...  Loss: 1.1270\n",
      "Epoch: 9/10...  Loss: 1.0937\n",
      "Epoch: 9/10...  Loss: 1.1313\n",
      "Epoch: 9/10...  Loss: 1.1225\n",
      "Epoch: 9/10...  Loss: 1.1483\n",
      "Epoch: 9/10...  Loss: 1.1232\n",
      "Epoch: 9/10...  Loss: 1.1431\n",
      "Epoch: 9/10...  Loss: 1.1355\n",
      "Epoch: 9/10...  Loss: 1.1051\n",
      "Epoch: 9/10...  Loss: 1.1016\n",
      "Epoch: 10/10...  Loss: 0.6503\n",
      "Epoch: 10/10...  Loss: 1.1281\n",
      "Epoch: 10/10...  Loss: 1.1352\n",
      "Epoch: 10/10...  Loss: 1.1138\n",
      "Epoch: 10/10...  Loss: 1.0924\n",
      "Epoch: 10/10...  Loss: 1.1160\n",
      "Epoch: 10/10...  Loss: 1.1031\n",
      "Epoch: 10/10...  Loss: 1.0752\n",
      "Epoch: 10/10...  Loss: 1.1369\n"
     ]
    }
   ],
   "source": [
    "# TODO: Train the network here\n",
    "epochs = 10\n",
    "print_every = 100\n",
    "steps = 0\n",
    "\n",
    "for e in range(epochs):\n",
    "    running_loss = 0\n",
    "    for images, labels in iter(trainloader):\n",
    "        steps += 1\n",
    "        images.resize_(images.size()[0], images.size()[2] * images.size()[3])\n",
    "\n",
    "        optimizer.zero_grad()\n",
    "    \n",
    "        output = model.forward(images)\n",
    "        loss = criterion(output, labels)\n",
    "        loss.backward()\n",
    "        optimizer.step()\n",
    "    \n",
    "        running_loss += loss.item()\n",
    "    \n",
    "        if steps % print_every == 0:\n",
    "            print(\"Epoch: {}/{}... \".format(e+1, epochs),\n",
    "              \"Loss: {:.4f}\".format(running_loss/print_every))\n",
    "            \n",
    "            running_loss = 0"
   ]
  },
  {
   "cell_type": "code",
   "execution_count": 54,
   "metadata": {},
   "outputs": [
    {
     "data": {
      "image/png": "[encoded data removed]",
      "text/plain": [
       "<Figure size 600x900 with 2 Axes>"
      ]
     },
     "metadata": {
      "image/png": {
       "height": 301,
       "width": 589
      }
     },
     "output_type": "display_data"
    }
   ],
   "source": [
    "# Test out your network!\n",
    "\n",
    "dataiter = iter(testloader)\n",
    "images, labels = next(dataiter)\n",
    "img = images[0]\n",
    "# Convert 2D image to 1D vector\n",
    "img = img.resize_(1, 784)\n",
    "\n",
    "# TODO: Calculate the class probabilities (softmax) for img\n",
    "ps = F.softmax(model.forward(img), dim=1)\n",
    "\n",
    "# Plot the image and probabilities\n",
    "helper.view_classify(img.resize_(1, 28, 28), ps, version='Fashion')"
   ]
  },
  {
   "cell_type": "markdown",
   "metadata": {},
   "source": [
    "Now that your network is trained, you'll want to save it to disk so you can load it later instead of training it again. Obviously, it's impractical to train a network every time you need one. In practice, you'll train it once, save the model, then reload it for further training or making predictions. In the next part, I'll show you how to save and load trained models."
   ]
  },
  {
   "cell_type": "code",
   "execution_count": null,
   "metadata": {},
   "outputs": [],
   "source": []
  }
 ],
 "metadata": {
  "kernelspec": {
   "display_name": "Python 3 (ipykernel)",
   "language": "python",
   "name": "python3"
  },
  "language_info": {
   "codemirror_mode": {
    "name": "ipython",
    "version": 3
   },
   "file_extension": ".py",
   "mimetype": "text/x-python",
   "name": "python",
   "nbconvert_exporter": "python",
   "pygments_lexer": "ipython3",
   "version": "3.10.14"
  }
 },
 "nbformat": 4,
 "nbformat_minor": 4
}
